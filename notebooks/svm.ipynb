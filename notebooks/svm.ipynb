{
 "cells": [
  {
   "cell_type": "markdown",
   "metadata": {},
   "source": [
    "# <span style='color:Black'> **Verifiable Support Vector Machine**  </span> "
   ]
  },
  {
   "cell_type": "markdown",
   "metadata": {},
   "source": [
    "The Support Vector Machines (SVM) model is a supervised learning technique used for classification and regression. It is employed to solve binary classification problems where it identifies the hyperplane that best divides a data set into classes. This hyperplane results from maximizing the margin between the two classes. By determining this optimal hyperplane, predictions can be made for new data points and understand how the input attributes influence classification.\n",
    "\n",
    "Below, we provide a brief review of implementing an SVM model using the Gradient Descent method for the linear kernel in Python, which we will later convert to Cairo to transform it into a verifiable ZKML (support vector machine model), using Orion's library. This allows an opportunity to familiarize oneself with the main functions and operators that the framework offers for the implementation of the SVM."
   ]
  },
  {
   "cell_type": "markdown",
   "metadata": {},
   "source": [
    "### <span style='color:Black'> **DataSet Generate**  </span>"
   ]
  },
  {
   "cell_type": "markdown",
   "metadata": {},
   "source": [
    "For the purposes of this tutorial, we generated linearly separable data using make_blobs from Scikit-learn"
   ]
  },
  {
   "cell_type": "code",
   "execution_count": 1,
   "metadata": {},
   "outputs": [
    {
     "name": "stdout",
     "output_type": "stream",
     "text": [
      "(100, 3) (100,) (50, 3) (50,)\n"
     ]
    }
   ],
   "source": [
    "import numpy as np\n",
    "import matplotlib.pyplot as plt\n",
    "from sklearn.datasets import make_blobs\n",
    "\n",
    "X, y = make_blobs(n_samples=150, centers=2,\n",
    "                  random_state=0, cluster_std=0.60)\n",
    "y[y == 0] = -1\n",
    "\n",
    "X = np.hstack((X, np.ones((X.shape[0], 1))))\n",
    "\n",
    "X_train, y_train = X[:100, :], y[:100]\n",
    "X_test, y_test = X[100:, :], y[100:]\n",
    "\n",
    "print(X_train.shape, y_train.shape, X_test.shape, y_test.shape)"
   ]
  },
  {
   "cell_type": "markdown",
   "metadata": {},
   "source": [
    "Now we will visualize the training data using a scatter plot, where the points are colored based on their class labels, which in our case will be 1 and -1"
   ]
  },
  {
   "cell_type": "code",
   "execution_count": 2,
   "metadata": {},
   "outputs": [
    {
     "data": {
      "text/plain": [
       "<matplotlib.collections.PathCollection at 0x23bf0a18c70>"
      ]
     },
     "execution_count": 2,
     "metadata": {},
     "output_type": "execute_result"
    },
    {
     "data": {
      "image/png": "[encoded data removed]",
      "text/plain": [
       "<Figure size 640x480 with 1 Axes>"
      ]
     },
     "metadata": {},
     "output_type": "display_data"
    }
   ],
   "source": [
    "plt.scatter(X_train[:, 0], X_train[:, 1], c=y_train, s=10, cmap='autumn')"
   ]
  },
  {
   "cell_type": "markdown",
   "metadata": {},
   "source": [
    "### <span style='color:Black'> **Loss function, gradient and Weight init**  </span>"
   ]
  },
  {
   "cell_type": "markdown",
   "metadata": {},
   "source": [
    "We will start by generating the key functions for SVM.\n",
    "\n",
    "Next, we'll define the loss functions and its gradient, with $\\mathbf{L2}$ regularization, both necessary to train our SVM.\n",
    "\n",
    "In the case of the loss function in SVM, the Hinge Loss ($\\max(0, 1 - y_i \\times (\\mathbf{w} \\cdot \\mathbf{x}_i))$) is used, which measures how far a sample is on the \"wrong side\" of the margin. If the sample is on the correct side of the margin, the loss is 0.\n",
    "\n",
    "$\\text{Loss Function}$  = $ \\frac{1}{N} \\sum_{i=1}^{N} \\max(0, 1 - y_i \\times (\\mathbf{w} \\cdot \\mathbf{x}_i)) + C \\times \\frac{1}{2} \\times \\mathbf{w} \\cdot \\mathbf{w}$\n",
    "\n",
    "$\\text{Gradient}$  =  $\\frac{1}{N} \\sum_{i=1}^{N} \\left( -y_i \\times \\mathbf{x}_i \\text{ (si } y_i \\times (\\mathbf{w} \\cdot \\mathbf{x}_i) < 1 \\text{) } \\right) + C \\times \\mathbf{w}$\n",
    "\n",
    "For the purposes of this tutorial, we initialize $\\mathbf{w}$ as an array of $\\mathbf{0's}$"
   ]
  },
  {
   "cell_type": "code",
   "execution_count": 3,
   "metadata": {},
   "outputs": [],
   "source": [
    "def loss_function(w, X, y, C):  \n",
    "    hinge_loss = np.maximum(0, 1 - y * np.dot(X, w)) \n",
    "    regularization_term = 0.5 * np.dot(w, w)  # Regularización L2 ###\n",
    "    total_loss = np.mean(hinge_loss) + C * regularization_term ###\n",
    "    return total_loss\n",
    "\n",
    "def loss_gradient(w, X, y, C):     \n",
    "    mask = (y * (np.dot(X, w))) < 1    #<1\n",
    "    gradient = (-np.dot(mask * y, X) / len(y)) +  C*w\n",
    "    return gradient\n",
    "\n",
    "# Gradiente descendente\n",
    "losses = []\n",
    "w = np.zeros(3)"
   ]
  },
  {
   "cell_type": "markdown",
   "metadata": {},
   "source": [
    "### <span style='color:Black'> **Initial hyperparameters**  </span>"
   ]
  },
  {
   "cell_type": "markdown",
   "metadata": {},
   "source": [
    "Now, we declare the hyperparameters: learning rate (learning_rate), the number of epochs (num_epochs), and the regularization parameter (C). Then, we will use gradient descent to adjust the weights of the SVM model. For the purposes of this tutorial, we stick with the following hyperparameters; however, the hyperplane acquisition could be improved with their adjustment."
   ]
  },
  {
   "cell_type": "code",
   "execution_count": 4,
   "metadata": {},
   "outputs": [],
   "source": [
    "learning_rate = 0.01\n",
    "num_epochs = 100\n",
    "C = 1"
   ]
  },
  {
   "cell_type": "markdown",
   "metadata": {},
   "source": [
    "### <span style='color:Black'> **Training**  </span>"
   ]
  },
  {
   "cell_type": "code",
   "execution_count": 5,
   "metadata": {},
   "outputs": [
    {
     "name": "stdout",
     "output_type": "stream",
     "text": [
      "Epoch 0, Loss: 1.0000\n",
      "Epoch 25, Loss: 0.5300\n",
      "Epoch 50, Loss: 0.4594\n",
      "Epoch 75, Loss: 0.4238\n",
      "Epoch 99, Loss: 0.4092\n"
     ]
    }
   ],
   "source": [
    "for epoch in range(num_epochs):\n",
    "    loss = loss_function(w,X_train, y_train, C)\n",
    "    losses.append(loss)\n",
    "\n",
    "    if epoch % 25 == 0 or epoch  == 99:\n",
    "        print(f\"Epoch {epoch}, Loss: {loss:.4f}\")\n",
    "\n",
    "    gradient_w = loss_gradient(w, X_train, y_train,C)\n",
    "    w -= learning_rate * gradient_w"
   ]
  },
  {
   "cell_type": "code",
   "execution_count": 6,
   "metadata": {},
   "outputs": [
    {
     "data": {
      "text/plain": [
       "[<matplotlib.lines.Line2D at 0x23bf0c80700>]"
      ]
     },
     "execution_count": 6,
     "metadata": {},
     "output_type": "execute_result"
    },
    {
     "data": {
      "image/png": "[encoded data removed]",
      "text/plain": [
       "<Figure size 640x480 with 1 Axes>"
      ]
     },
     "metadata": {},
     "output_type": "display_data"
    }
   ],
   "source": [
    "plt.plot(losses)"
   ]
  },
  {
   "cell_type": "markdown",
   "metadata": {},
   "source": [
    "After training the model and observing the decrease of the loss function, we evaluate its performance on both the training and test data. We will calculate the accuracy and display the final loss on the training data. In our case, the weights $\\mathbf{w}$ and the accuracies will be the values against which we compare the SVM implementation in Cairo with Orion."
   ]
  },
  {
   "cell_type": "markdown",
   "metadata": {},
   "source": [
    "### <span style='color:Black'> **Evaluate model on training data**  </span>"
   ]
  },
  {
   "cell_type": "code",
   "execution_count": 7,
   "metadata": {},
   "outputs": [
    {
     "name": "stdout",
     "output_type": "stream",
     "text": [
      "Accuracy: 0.99\n",
      "Final loss: 0.408927300213472\n"
     ]
    }
   ],
   "source": [
    "def predict(X, w):\n",
    "    return np.sign(np.dot(X, w))\n",
    "\n",
    "predictions = predict(X_train, w)\n",
    "final_loss = loss_function(w, X_train, y_train,C)\n",
    "\n",
    "print(\"Accuracy: {}\".format((predictions == y_train).mean()))\n",
    "print(\"Final loss: {}\".format(final_loss))"
   ]
  },
  {
   "cell_type": "markdown",
   "metadata": {},
   "source": [
    "### <span style='color:Black'> **Evaluate model on test data**  </span>"
   ]
  },
  {
   "cell_type": "code",
   "execution_count": 8,
   "metadata": {},
   "outputs": [
    {
     "name": "stdout",
     "output_type": "stream",
     "text": [
      "Accuracy: 0.98\n"
     ]
    }
   ],
   "source": [
    "predictions = predict(X_test, w)\n",
    "\n",
    "print(\"Accuracy: {}\".format((predictions == y_test).mean()))"
   ]
  },
  {
   "cell_type": "code",
   "execution_count": 9,
   "metadata": {},
   "outputs": [
    {
     "data": {
      "text/plain": [
       "array([ 0.36715632, -0.35873007,  0.12536368])"
      ]
     },
     "execution_count": 9,
     "metadata": {},
     "output_type": "execute_result"
    }
   ],
   "source": [
    "w"
   ]
  },
  {
   "cell_type": "markdown",
   "metadata": {},
   "source": [
    "Next, we will visualize the obtained hyperplane, determined by $\\mathbf{w} = (0.367, -0.358, 0.125)$ and the way it separates the classes in the test data."
   ]
  },
  {
   "cell_type": "code",
   "execution_count": 10,
   "metadata": {},
   "outputs": [
    {
     "data": {
      "text/plain": [
       "[<matplotlib.lines.Line2D at 0x23bf2ceb880>]"
      ]
     },
     "execution_count": 10,
     "metadata": {},
     "output_type": "execute_result"
    },
    {
     "data": {
      "image/png": "[encoded data removed]",
      "text/plain": [
       "<Figure size 640x480 with 1 Axes>"
      ]
     },
     "metadata": {},
     "output_type": "display_data"
    }
   ],
   "source": [
    "plt.scatter(X_test[:, 0], X_test[:, 1], c=y_test, s=50, cmap='autumn')\n",
    "\n",
    "x_plot = np.linspace(X_test[:, 0].min() - 1, X_test[:, 0].max() + 1, 100)\n",
    "y_plot = (-w[0] / w[1]) * x_plot - (w[2]/w[1]) #\n",
    "plt.plot(x_plot, y_plot, 'k-')"
   ]
  },
  {
   "cell_type": "markdown",
   "metadata": {},
   "source": [
    "The equation of the line obtained is $\\mathbf{Y} = 1.023\\mathbf{X} + 0.349$"
   ]
  },
  {
   "cell_type": "markdown",
   "metadata": {},
   "source": [
    "## <span style='color:Black'> **Convert your model to Cairo**  </span>"
   ]
  },
  {
   "cell_type": "markdown",
   "metadata": {},
   "source": [
    "### <span style='color:Black'> **Generating Cairo files**  </span>\n",
    "\n",
    "Now let's generate Cairo files for each tensor in the object."
   ]
  },
  {
   "cell_type": "code",
   "execution_count": 11,
   "metadata": {},
   "outputs": [],
   "source": [
    "def decimal_to_fp16x16(num):\n",
    "\n",
    "    whole_num = int(num)\n",
    "    fractional_part = int((num - whole_num) * 65536)\n",
    "    fp_number = (whole_num << 16) + fractional_part\n",
    "    return fp_number"
   ]
  },
  {
   "cell_type": "code",
   "execution_count": 12,
   "metadata": {},
   "outputs": [],
   "source": [
    "import os"
   ]
  },
  {
   "cell_type": "code",
   "execution_count": 13,
   "metadata": {},
   "outputs": [],
   "source": [
    "os.makedirs(\"src/generated\", exist_ok=True)"
   ]
  },
  {
   "cell_type": "code",
   "execution_count": 14,
   "metadata": {},
   "outputs": [],
   "source": [
    "tensor_name = [\"X_train\", \"Y_train\", \"X_test\", \"Y_test\"]\n",
    "\n",
    "def generate_cairo_files(data, name):\n",
    "\n",
    "    with open(os.path.join('src', 'generated', f\"{name}.cairo\"), \"w\") as f:\n",
    "        f.write(\n",
    "            \"use array::ArrayTrait;\\n\" +\n",
    "            \"use orion::operators::tensor::{core::{Tensor, TensorTrait, ExtraParams}, implementations::impl_tensor_fp::Tensor_fp};\\n\" +\n",
    "            \"use orion::numbers::fixed_point::{core::{FixedTrait, FixedType, FixedImpl}, implementations::fp16x16::core::FP16x16Impl};\\n\" +\n",
    "            \"\\n\" + f\"fn {name}() -> Tensor<FixedType>\" + \"{\\n\\n\" + \n",
    "            \"let mut shape = ArrayTrait::new();\\n\"\n",
    "        )\n",
    "        for dim in data.shape:\n",
    "            f.write(f\"shape.append({dim});\\n\")\n",
    "    \n",
    "        f.write(\"let mut data = ArrayTrait::new();\")\n",
    "        for val in np.nditer(data.flatten()):\n",
    "            f.write(f\"data.append(FixedTrait::new({abs(int(decimal_to_fp16x16(val)))}, {str(val < 0).lower()}));\\n\")\n",
    "        f.write(\n",
    "            \"let extra = ExtraParams { fixed_point: Option::Some(FixedImpl::FP16x16(())) };\\n\" + \n",
    "            \"let tensor = TensorTrait::<FixedType>::new(shape.span(), data.span(), Option::Some(extra));\\n\" +\n",
    "            \"return tensor;\\n}\"\n",
    "        )\n",
    "\n",
    "with open(f\"src/generated.cairo\", \"w\") as f:\n",
    "    for n in tensor_name:\n",
    "        f.write(f\"mod {n};\\n\")\n",
    "\n",
    "generate_cairo_files(X_train, \"X_train\")\n",
    "generate_cairo_files(X_test, \"X_test\")\n",
    "generate_cairo_files(y_train, \"Y_train\")\n",
    "generate_cairo_files(y_test, \"Y_test\")"
   ]
  },
  {
   "cell_type": "markdown",
   "metadata": {},
   "source": [
    "<span style='color:Black'> **Convert hyperparameters to FP16x16**  </span>\n"
   ]
  },
  {
   "cell_type": "code",
   "execution_count": 15,
   "metadata": {},
   "outputs": [
    {
     "name": "stdout",
     "output_type": "stream",
     "text": [
      "655\n",
      "65536\n",
      "6553600\n"
     ]
    }
   ],
   "source": [
    "print(decimal_to_fp16x16(learning_rate))\n",
    "print(decimal_to_fp16x16(C))\n",
    "print(decimal_to_fp16x16(num_epochs))"
   ]
  },
  {
   "cell_type": "markdown",
   "metadata": {},
   "source": [
    "<span style='color:Black'> **Get an estimate for the initial and final loss value, and final weights in FP16x16**  </span>"
   ]
  },
  {
   "cell_type": "code",
   "execution_count": 16,
   "metadata": {},
   "outputs": [
    {
     "name": "stdout",
     "output_type": "stream",
     "text": [
      "Initial loss: 65536\n",
      "Final loss: 26799\n",
      "Weights: [ 24061 -23509   8215]\n"
     ]
    }
   ],
   "source": [
    "w = np.array([decimal_to_fp16x16(w[0]),\n",
    "decimal_to_fp16x16(w[1]),\n",
    "decimal_to_fp16x16(w[2])])\n",
    "\n",
    "print(\"Initial loss: {}\".format(decimal_to_fp16x16(losses[0])))\n",
    "print(\"Final loss: {}\".format(decimal_to_fp16x16(final_loss)))\n",
    "print(\"Weights: {}\".format(w))"
   ]
  },
  {
   "cell_type": "markdown",
   "metadata": {},
   "source": [
    "For the implementation of SVM in Cairo with Orion, refer to the section **Convert your SVM model to Cairo**"
   ]
  }
 ],
 "metadata": {
  "kernelspec": {
   "display_name": "cairo",
   "language": "python",
   "name": "python3"
  },
  "language_info": {
   "codemirror_mode": {
    "name": "ipython",
    "version": 3
   },
   "file_extension": ".py",
   "mimetype": "text/x-python",
   "name": "python",
   "nbconvert_exporter": "python",
   "pygments_lexer": "ipython3",
   "version": "3.10.9"
  },
  "orig_nbformat": 4
 },
 "nbformat": 4,
 "nbformat_minor": 2
}
